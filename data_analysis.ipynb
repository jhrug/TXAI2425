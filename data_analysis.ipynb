{
 "cells": [
  {
   "cell_type": "code",
   "execution_count": 3,
   "metadata": {},
   "outputs": [],
   "source": [
    "import os\n",
    "import re\n",
    "\n",
    "import tensorflow as tf\n",
    "import pandas as pd\n",
    "import numpy as np\n",
    "import matplotlib.pyplot as plt"
   ]
  },
  {
   "cell_type": "code",
   "execution_count": 2,
   "metadata": {},
   "outputs": [],
   "source": [
    "DATASET_DIR = \"datasets/utkface/\"\n",
    "IMG_DIM = 200"
   ]
  },
  {
   "cell_type": "code",
   "execution_count": null,
   "metadata": {},
   "outputs": [
    {
     "name": "stdout",
     "output_type": "stream",
     "text": [
      "File does not match expected format: 39_1_20170116174525125.jpg.chip.jpg\n",
      "File does not match expected format: 61_1_20170109142408075.jpg.chip.jpg\n",
      "File does not match expected format: 61_1_20170109150557335.jpg.chip.jpg\n"
     ]
    }
   ],
   "source": [
    "# Find files missing ethnicity label (implemented in utils.prepare_dataset())\n",
    "\n",
    "pattern = re.compile(r'^(\\d+)_(\\d)_(\\d)_\\d{16}')\n",
    "bad_files = []\n",
    "\n",
    "for file in os.listdir(DATASET_DIR):\n",
    "    if file.endswith(\".jpg\"): \n",
    "        if not pattern.match(file):\n",
    "            bad_files.append(file)\n",
    "            print(f\"File does not match expected format: {file}\")\n",
    "\n",
    "if not bad_files:\n",
    "    print(\"All files match the expected format.\")"
   ]
  }
 ],
 "metadata": {
  "kernelspec": {
   "display_name": "ageclassification",
   "language": "python",
   "name": "python3"
  },
  "language_info": {
   "codemirror_mode": {
    "name": "ipython",
    "version": 3
   },
   "file_extension": ".py",
   "mimetype": "text/x-python",
   "name": "python",
   "nbconvert_exporter": "python",
   "pygments_lexer": "ipython3",
   "version": "3.10.16"
  }
 },
 "nbformat": 4,
 "nbformat_minor": 2
}
